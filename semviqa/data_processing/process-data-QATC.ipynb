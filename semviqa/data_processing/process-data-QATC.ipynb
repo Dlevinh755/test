{
 "cells": [
  {
   "cell_type": "code",
   "execution_count": null,
   "metadata": {
    "_cell_guid": "b1076dfc-b9ad-4769-8c92-a6c4dae69d19",
    "_uuid": "8f2839f25d086af736a60e9eeb907d3b93b6e0e5",
    "execution": {
     "iopub.execute_input": "2023-11-03T14:34:34.408576Z",
     "iopub.status.busy": "2023-11-03T14:34:34.408239Z",
     "iopub.status.idle": "2023-11-03T14:34:43.877135Z",
     "shell.execute_reply": "2023-11-03T14:34:43.875786Z",
     "shell.execute_reply.started": "2023-11-03T14:34:34.408545Z"
    },
    "papermill": {
     "duration": 28.677169,
     "end_time": "2023-10-30T06:17:03.887928",
     "exception": false,
     "start_time": "2023-10-30T06:16:35.210759",
     "status": "completed"
    },
    "tags": [],
    "trusted": true
   },
   "outputs": [
    {
     "name": "stdout",
     "output_type": "stream",
     "text": [
      "Requirement already satisfied: rank_bm25 in /opt/conda/lib/python3.10/site-packages (0.2.2)\n",
      "Requirement already satisfied: numpy in /opt/conda/lib/python3.10/site-packages (from rank_bm25) (1.23.5)\n",
      "[nltk_data] Downloading package punkt to /usr/share/nltk_data...\n",
      "[nltk_data]   Package punkt is already up-to-date!\n",
      "Token will not been saved to git credential helper. Pass `add_to_git_credential=True` if you want to set the git credential as well.\n",
      "Token is valid (permission: read).\n",
      "Your token has been saved to /root/.cache/huggingface/token\n",
      "Login successful\n"
     ]
    }
   ],
   "source": [
    "!pip install rank_bm25\n",
    "\n",
    "import numpy as np\n",
    "import pandas as pd\n",
    "import re\n",
    "from transformers import pipeline\n",
    "from rank_bm25 import BM25Okapi\n",
    "import nltk\n",
    "nltk.download('punkt')  \n",
    "\n",
    "from tqdm.notebook import tqdm\n",
    "import pandas as pd\n",
    "# test_dict_answer\n",
    "from transformers import AutoTokenizer, AutoModelForTokenClassification\n",
    "from transformers import pipeline\n",
    "import re\n",
    "from huggingface_hub import login\n",
    "import numpy as np\n",
    "from sklearn.model_selection import train_test_split\n",
    "\n",
    "login(token='')"
   ]
  },
  {
   "cell_type": "code",
   "execution_count": 2,
   "metadata": {
    "execution": {
     "iopub.execute_input": "2023-11-03T14:16:20.595716Z",
     "iopub.status.busy": "2023-11-03T14:16:20.595344Z",
     "iopub.status.idle": "2023-11-03T14:16:26.824706Z",
     "shell.execute_reply": "2023-11-03T14:16:26.823670Z",
     "shell.execute_reply.started": "2023-11-03T14:16:20.595686Z"
    },
    "papermill": {
     "duration": 39.546035,
     "end_time": "2023-10-30T06:17:43.453569",
     "exception": false,
     "start_time": "2023-10-30T06:17:03.907534",
     "status": "completed"
    },
    "tags": [],
    "trusted": true
   },
   "outputs": [
    {
     "data": {
      "application/vnd.jupyter.widget-view+json": {
       "model_id": "2f7bd76cc68341b39669e10844b583e1",
       "version_major": 2,
       "version_minor": 0
      },
      "text/plain": [
       "Downloading (…)okenizer_config.json:   0%|          | 0.00/383 [00:00<?, ?B/s]"
      ]
     },
     "metadata": {},
     "output_type": "display_data"
    },
    {
     "data": {
      "application/vnd.jupyter.widget-view+json": {
       "model_id": "0bf00e0db48f4de597aa83e66be2af69",
       "version_major": 2,
       "version_minor": 0
      },
      "text/plain": [
       "Downloading (…)solve/main/vocab.txt:   0%|          | 0.00/411k [00:00<?, ?B/s]"
      ]
     },
     "metadata": {},
     "output_type": "display_data"
    },
    {
     "data": {
      "application/vnd.jupyter.widget-view+json": {
       "model_id": "6c57c64a0f934e4489b385e75dc19a48",
       "version_major": 2,
       "version_minor": 0
      },
      "text/plain": [
       "Downloading (…)/main/tokenizer.json:   0%|          | 0.00/1.40M [00:00<?, ?B/s]"
      ]
     },
     "metadata": {},
     "output_type": "display_data"
    },
    {
     "data": {
      "application/vnd.jupyter.widget-view+json": {
       "model_id": "1e7544bb3a574bb2a1b693d59e38102f",
       "version_major": 2,
       "version_minor": 0
      },
      "text/plain": [
       "Downloading (…)cial_tokens_map.json:   0%|          | 0.00/125 [00:00<?, ?B/s]"
      ]
     },
     "metadata": {},
     "output_type": "display_data"
    },
    {
     "data": {
      "application/vnd.jupyter.widget-view+json": {
       "model_id": "be283c0d732b4e41aebb995f17d342b5",
       "version_major": 2,
       "version_minor": 0
      },
      "text/plain": [
       "Downloading (…)lve/main/config.json:   0%|          | 0.00/915 [00:00<?, ?B/s]"
      ]
     },
     "metadata": {},
     "output_type": "display_data"
    },
    {
     "data": {
      "application/vnd.jupyter.widget-view+json": {
       "model_id": "a4661ab744194ee4858435b16b166caa",
       "version_major": 2,
       "version_minor": 0
      },
      "text/plain": [
       "Downloading pytorch_model.bin:   0%|          | 0.00/532M [00:00<?, ?B/s]"
      ]
     },
     "metadata": {},
     "output_type": "display_data"
    }
   ],
   "source": [
    "# status['claim']#     example = \"Phát biểu tại phiên thảo luận về tình hình kinh tế xã hội của Quốc hội sáng 28/10 , Bộ trưởng Bộ LĐ-TB&XH Đào Ngọc Dung khái quát , tại phiên khai mạc kỳ họp , lãnh đạo chính phủ đã báo cáo , đề cập tương đối rõ ràng về việc thực hiện các chính sách an sinh xã hội\"\n",
    "tokenizer_seg = AutoTokenizer.from_pretrained(\"NlpHUST/vi-word-segmentation\")\n",
    "model_seg = AutoModelForTokenClassification.from_pretrained(\"NlpHUST/vi-word-segmentation\")\n",
    "nlp = pipeline(\"token-classification\", model=model_seg, tokenizer=tokenizer_seg)\n",
    "\n",
    "def segmentation_token(example):\n",
    "#     example = preprocess_text(example)\n",
    "    ner_results = nlp(example)\n",
    "    example_tok = \"\"\n",
    "    for e in ner_results:\n",
    "        if \"##\" in e[\"word\"]:\n",
    "            example_tok = example_tok + e[\"word\"].replace(\"##\",\"\")\n",
    "        elif e[\"entity\"] ==\"I\":\n",
    "            example_tok = example_tok + \"_\" + e[\"word\"]\n",
    "        else:\n",
    "            example_tok = example_tok + \" \" + e[\"word\"]\n",
    "    return example_tok"
   ]
  },
  {
   "cell_type": "code",
   "execution_count": 3,
   "metadata": {
    "execution": {
     "iopub.execute_input": "2023-11-03T14:16:26.826623Z",
     "iopub.status.busy": "2023-11-03T14:16:26.826349Z",
     "iopub.status.idle": "2023-11-03T14:16:40.302234Z",
     "shell.execute_reply": "2023-11-03T14:16:40.301154Z",
     "shell.execute_reply.started": "2023-11-03T14:16:26.826600Z"
    },
    "papermill": {
     "duration": 17.610121,
     "end_time": "2023-10-30T06:18:01.084830",
     "exception": false,
     "start_time": "2023-10-30T06:17:43.474709",
     "status": "completed"
    },
    "tags": [],
    "trusted": true
   },
   "outputs": [
    {
     "data": {
      "text/html": [
       "<div>\n",
       "<style scoped>\n",
       "    .dataframe tbody tr th:only-of-type {\n",
       "        vertical-align: middle;\n",
       "    }\n",
       "\n",
       "    .dataframe tbody tr th {\n",
       "        vertical-align: top;\n",
       "    }\n",
       "\n",
       "    .dataframe thead th {\n",
       "        text-align: right;\n",
       "    }\n",
       "</style>\n",
       "<table border=\"1\" class=\"dataframe\">\n",
       "  <thead>\n",
       "    <tr style=\"text-align: right;\">\n",
       "      <th></th>\n",
       "      <th>context</th>\n",
       "      <th>claim</th>\n",
       "      <th>verdict</th>\n",
       "      <th>evidence</th>\n",
       "      <th>domain</th>\n",
       "    </tr>\n",
       "  </thead>\n",
       "  <tbody>\n",
       "    <tr>\n",
       "      <th>7125</th>\n",
       "      <td>Phát biểu tại lễ ký kết vào ngày 17/11, Giám đ...</td>\n",
       "      <td>Ngoài việc không giới hạn mức lương, công ty c...</td>\n",
       "      <td>SUPPORTED</td>\n",
       "      <td>Công ty cũng có chế độ đãi ngộ tốt, có lương t...</td>\n",
       "      <td>giao-duc</td>\n",
       "    </tr>\n",
       "    <tr>\n",
       "      <th>7126</th>\n",
       "      <td>Phát biểu tại lễ ký kết vào ngày 17/11, Giám đ...</td>\n",
       "      <td>Thành lập năm 2016, phát triển phần mềm, tổ ch...</td>\n",
       "      <td>SUPPORTED</td>\n",
       "      <td>FABA Technology thành lập năm 2016, chuyên cun...</td>\n",
       "      <td>giao-duc</td>\n",
       "    </tr>\n",
       "    <tr>\n",
       "      <th>7127</th>\n",
       "      <td>Phát biểu tại lễ ký kết vào ngày 17/11, Giám đ...</td>\n",
       "      <td>Nhằm phát triển đội ngũ, FABA thường tổ chức n...</td>\n",
       "      <td>SUPPORTED</td>\n",
       "      <td>Bên cạnh đó, FABA thường xuyên tổ chức những d...</td>\n",
       "      <td>giao-duc</td>\n",
       "    </tr>\n",
       "  </tbody>\n",
       "</table>\n",
       "</div>"
      ],
      "text/plain": [
       "                                                context  \\\n",
       "7125  Phát biểu tại lễ ký kết vào ngày 17/11, Giám đ...   \n",
       "7126  Phát biểu tại lễ ký kết vào ngày 17/11, Giám đ...   \n",
       "7127  Phát biểu tại lễ ký kết vào ngày 17/11, Giám đ...   \n",
       "\n",
       "                                                  claim    verdict  \\\n",
       "7125  Ngoài việc không giới hạn mức lương, công ty c...  SUPPORTED   \n",
       "7126  Thành lập năm 2016, phát triển phần mềm, tổ ch...  SUPPORTED   \n",
       "7127  Nhằm phát triển đội ngũ, FABA thường tổ chức n...  SUPPORTED   \n",
       "\n",
       "                                               evidence    domain  \n",
       "7125  Công ty cũng có chế độ đãi ngộ tốt, có lương t...  giao-duc  \n",
       "7126  FABA Technology thành lập năm 2016, chuyên cun...  giao-duc  \n",
       "7127  Bên cạnh đó, FABA thường xuyên tổ chức những d...  giao-duc  "
      ]
     },
     "execution_count": 3,
     "metadata": {},
     "output_type": "execute_result"
    }
   ],
   "source": [
    "meta = pd.read_json('/kaggle/input/ise-dsc01/ise-dsc01-train.json').T\n",
    "meta.head(3)"
   ]
  },
  {
   "cell_type": "markdown",
   "metadata": {
    "papermill": {
     "duration": 0.019854,
     "end_time": "2023-10-30T06:18:01.171943",
     "exception": false,
     "start_time": "2023-10-30T06:18:01.152089",
     "status": "completed"
    },
    "tags": []
   },
   "source": [
    "Không phải cứ “ là chấm được có những câu \" chuaq phải là chấm\n",
    "các dữ liệu khi đưa vào proces của BTC thì nó sẽ đưa về dạng chuẩn hết nên ko phải lo\"\n"
   ]
  },
  {
   "cell_type": "code",
   "execution_count": 4,
   "metadata": {
    "execution": {
     "iopub.execute_input": "2023-11-03T14:16:40.303475Z",
     "iopub.status.busy": "2023-11-03T14:16:40.303216Z",
     "iopub.status.idle": "2023-11-03T14:16:40.312245Z",
     "shell.execute_reply": "2023-11-03T14:16:40.311206Z",
     "shell.execute_reply.started": "2023-11-03T14:16:40.303451Z"
    },
    "papermill": {
     "duration": 0.0281,
     "end_time": "2023-10-30T06:18:01.219937",
     "exception": false,
     "start_time": "2023-10-30T06:18:01.191837",
     "status": "completed"
    },
    "tags": [],
    "trusted": true
   },
   "outputs": [],
   "source": [
    "meta['id'] = meta.index"
   ]
  },
  {
   "cell_type": "code",
   "execution_count": 5,
   "metadata": {
    "execution": {
     "iopub.execute_input": "2023-11-03T14:16:40.315618Z",
     "iopub.status.busy": "2023-11-03T14:16:40.315337Z",
     "iopub.status.idle": "2023-11-03T14:16:40.818625Z",
     "shell.execute_reply": "2023-11-03T14:16:40.817138Z",
     "shell.execute_reply.started": "2023-11-03T14:16:40.315595Z"
    },
    "papermill": {
     "duration": 0.69722,
     "end_time": "2023-10-30T06:18:01.937280",
     "exception": false,
     "start_time": "2023-10-30T06:18:01.240060",
     "status": "completed"
    },
    "tags": [],
    "trusted": true
   },
   "outputs": [],
   "source": [
    "meta = meta.drop_duplicates()"
   ]
  },
  {
   "cell_type": "code",
   "execution_count": 6,
   "metadata": {
    "execution": {
     "iopub.execute_input": "2023-11-03T14:16:40.820340Z",
     "iopub.status.busy": "2023-11-03T14:16:40.819906Z",
     "iopub.status.idle": "2023-11-03T14:16:40.867912Z",
     "shell.execute_reply": "2023-11-03T14:16:40.867131Z",
     "shell.execute_reply.started": "2023-11-03T14:16:40.820312Z"
    },
    "papermill": {
     "duration": 0.074797,
     "end_time": "2023-10-30T06:18:02.078335",
     "exception": false,
     "start_time": "2023-10-30T06:18:02.003538",
     "status": "completed"
    },
    "tags": [],
    "trusted": true
   },
   "outputs": [],
   "source": [
    "count_value = meta.claim.value_counts().values\n",
    "value = meta.claim.value_counts().keys()"
   ]
  },
  {
   "cell_type": "code",
   "execution_count": 7,
   "metadata": {
    "execution": {
     "iopub.execute_input": "2023-11-03T14:16:40.869390Z",
     "iopub.status.busy": "2023-11-03T14:16:40.868783Z",
     "iopub.status.idle": "2023-11-03T14:16:40.881001Z",
     "shell.execute_reply": "2023-11-03T14:16:40.879755Z",
     "shell.execute_reply.started": "2023-11-03T14:16:40.869368Z"
    },
    "papermill": {
     "duration": 0.040527,
     "end_time": "2023-10-30T06:18:02.139109",
     "exception": false,
     "start_time": "2023-10-30T06:18:02.098582",
     "status": "completed"
    },
    "tags": [],
    "trusted": true
   },
   "outputs": [],
   "source": [
    "cnt = 0\n",
    "wrong_claims = []\n",
    "for i in range(len(count_value)):\n",
    "    if count_value[i] > 1:\n",
    "        cnt+=1\n",
    "        wrong_claims.append(value[i])"
   ]
  },
  {
   "cell_type": "code",
   "execution_count": 8,
   "metadata": {
    "execution": {
     "iopub.execute_input": "2023-11-03T14:16:40.883249Z",
     "iopub.status.busy": "2023-11-03T14:16:40.882875Z",
     "iopub.status.idle": "2023-11-03T14:16:40.898829Z",
     "shell.execute_reply": "2023-11-03T14:16:40.897760Z",
     "shell.execute_reply.started": "2023-11-03T14:16:40.883220Z"
    },
    "papermill": {
     "duration": 0.026457,
     "end_time": "2023-10-30T06:18:02.185647",
     "exception": false,
     "start_time": "2023-10-30T06:18:02.159190",
     "status": "completed"
    },
    "tags": [],
    "trusted": true
   },
   "outputs": [],
   "source": [
    "# meta[meta.claim.isin(wrong_claims)]"
   ]
  },
  {
   "cell_type": "code",
   "execution_count": 9,
   "metadata": {
    "execution": {
     "iopub.execute_input": "2023-11-03T14:16:40.900696Z",
     "iopub.status.busy": "2023-11-03T14:16:40.900030Z",
     "iopub.status.idle": "2023-11-03T14:16:40.924775Z",
     "shell.execute_reply": "2023-11-03T14:16:40.924066Z",
     "shell.execute_reply.started": "2023-11-03T14:16:40.900659Z"
    },
    "papermill": {
     "duration": 0.038553,
     "end_time": "2023-10-30T06:18:02.244055",
     "exception": false,
     "start_time": "2023-10-30T06:18:02.205502",
     "status": "completed"
    },
    "tags": [],
    "trusted": true
   },
   "outputs": [],
   "source": [
    "idx_list = meta[meta.claim.isin(wrong_claims)].sort_values(by='claim').index"
   ]
  },
  {
   "cell_type": "code",
   "execution_count": 10,
   "metadata": {
    "execution": {
     "iopub.execute_input": "2023-11-03T14:16:40.927454Z",
     "iopub.status.busy": "2023-11-03T14:16:40.927080Z",
     "iopub.status.idle": "2023-11-03T14:16:40.940200Z",
     "shell.execute_reply": "2023-11-03T14:16:40.939171Z",
     "shell.execute_reply.started": "2023-11-03T14:16:40.927422Z"
    },
    "papermill": {
     "duration": 0.035581,
     "end_time": "2023-10-30T06:18:02.299787",
     "exception": false,
     "start_time": "2023-10-30T06:18:02.264206",
     "status": "completed"
    },
    "tags": [],
    "trusted": true
   },
   "outputs": [],
   "source": [
    "meta.drop(idx_list, inplace=True)"
   ]
  },
  {
   "cell_type": "code",
   "execution_count": 11,
   "metadata": {
    "execution": {
     "iopub.execute_input": "2023-11-03T14:16:40.943416Z",
     "iopub.status.busy": "2023-11-03T14:16:40.942568Z",
     "iopub.status.idle": "2023-11-03T14:16:40.961467Z",
     "shell.execute_reply": "2023-11-03T14:16:40.959998Z",
     "shell.execute_reply.started": "2023-11-03T14:16:40.943368Z"
    },
    "papermill": {
     "duration": 0.037905,
     "end_time": "2023-10-30T06:18:02.357823",
     "exception": false,
     "start_time": "2023-10-30T06:18:02.319918",
     "status": "completed"
    },
    "tags": [],
    "trusted": true
   },
   "outputs": [
    {
     "data": {
      "text/html": [
       "<div>\n",
       "<style scoped>\n",
       "    .dataframe tbody tr th:only-of-type {\n",
       "        vertical-align: middle;\n",
       "    }\n",
       "\n",
       "    .dataframe tbody tr th {\n",
       "        vertical-align: top;\n",
       "    }\n",
       "\n",
       "    .dataframe thead th {\n",
       "        text-align: right;\n",
       "    }\n",
       "</style>\n",
       "<table border=\"1\" class=\"dataframe\">\n",
       "  <thead>\n",
       "    <tr style=\"text-align: right;\">\n",
       "      <th></th>\n",
       "      <th>context</th>\n",
       "      <th>claim</th>\n",
       "      <th>verdict</th>\n",
       "      <th>evidence</th>\n",
       "      <th>domain</th>\n",
       "      <th>id</th>\n",
       "    </tr>\n",
       "  </thead>\n",
       "  <tbody>\n",
       "  </tbody>\n",
       "</table>\n",
       "</div>"
      ],
      "text/plain": [
       "Empty DataFrame\n",
       "Columns: [context, claim, verdict, evidence, domain, id]\n",
       "Index: []"
      ]
     },
     "execution_count": 11,
     "metadata": {},
     "output_type": "execute_result"
    }
   ],
   "source": [
    " meta[meta.claim.isin(wrong_claims)].sort_values(by='claim')"
   ]
  },
  {
   "cell_type": "code",
   "execution_count": 12,
   "metadata": {
    "execution": {
     "iopub.execute_input": "2023-11-03T14:16:40.963837Z",
     "iopub.status.busy": "2023-11-03T14:16:40.963420Z",
     "iopub.status.idle": "2023-11-03T14:16:41.567314Z",
     "shell.execute_reply": "2023-11-03T14:16:41.565908Z",
     "shell.execute_reply.started": "2023-11-03T14:16:40.963802Z"
    },
    "papermill": {
     "duration": 0.902557,
     "end_time": "2023-10-30T06:18:03.280715",
     "exception": false,
     "start_time": "2023-10-30T06:18:02.378158",
     "status": "completed"
    },
    "tags": [],
    "trusted": true
   },
   "outputs": [],
   "source": [
    "id_n = []\n",
    "for i in meta.index:\n",
    "    if meta.verdict[i] == 'NEI': continue\n",
    "    if \"\\n\\n\" in meta.evidence[i]:\n",
    "        id_n.append(i)"
   ]
  },
  {
   "cell_type": "code",
   "execution_count": 13,
   "metadata": {
    "execution": {
     "iopub.execute_input": "2023-11-03T14:16:41.569415Z",
     "iopub.status.busy": "2023-11-03T14:16:41.568998Z",
     "iopub.status.idle": "2023-11-03T14:16:41.577286Z",
     "shell.execute_reply": "2023-11-03T14:16:41.576185Z",
     "shell.execute_reply.started": "2023-11-03T14:16:41.569379Z"
    },
    "papermill": {
     "duration": 0.028524,
     "end_time": "2023-10-30T06:18:03.329807",
     "exception": false,
     "start_time": "2023-10-30T06:18:03.301283",
     "status": "completed"
    },
    "tags": [],
    "trusted": true
   },
   "outputs": [
    {
     "data": {
      "text/plain": [
       "36482"
      ]
     },
     "execution_count": 13,
     "metadata": {},
     "output_type": "execute_result"
    }
   ],
   "source": [
    "len(meta)"
   ]
  },
  {
   "cell_type": "code",
   "execution_count": 14,
   "metadata": {
    "execution": {
     "iopub.execute_input": "2023-11-03T14:16:41.579044Z",
     "iopub.status.busy": "2023-11-03T14:16:41.578647Z",
     "iopub.status.idle": "2023-11-03T14:16:41.593969Z",
     "shell.execute_reply": "2023-11-03T14:16:41.592896Z",
     "shell.execute_reply.started": "2023-11-03T14:16:41.579009Z"
    },
    "papermill": {
     "duration": 0.036162,
     "end_time": "2023-10-30T06:18:03.386116",
     "exception": false,
     "start_time": "2023-10-30T06:18:03.349954",
     "status": "completed"
    },
    "tags": [],
    "trusted": true
   },
   "outputs": [],
   "source": [
    "meta.drop(id_n, inplace=True)"
   ]
  },
  {
   "cell_type": "code",
   "execution_count": 15,
   "metadata": {
    "execution": {
     "iopub.execute_input": "2023-11-03T14:16:45.825496Z",
     "iopub.status.busy": "2023-11-03T14:16:45.825138Z",
     "iopub.status.idle": "2023-11-03T14:16:46.705171Z",
     "shell.execute_reply": "2023-11-03T14:16:46.704036Z",
     "shell.execute_reply.started": "2023-11-03T14:16:45.825467Z"
    },
    "papermill": {
     "duration": 1.277363,
     "end_time": "2023-10-30T06:18:04.732760",
     "exception": false,
     "start_time": "2023-10-30T06:18:03.455397",
     "status": "completed"
    },
    "tags": [],
    "trusted": true
   },
   "outputs": [],
   "source": [
    "id_wrong = []\n",
    "for i in meta.index:\n",
    "    if meta.evidence[i] != None:\n",
    "        if meta.claim[i] in meta.context[i] and meta.claim[i] not in  meta.evidence[i]:\n",
    "            id_wrong.append(i)"
   ]
  },
  {
   "cell_type": "code",
   "execution_count": 16,
   "metadata": {
    "execution": {
     "iopub.execute_input": "2023-11-03T14:16:49.815790Z",
     "iopub.status.busy": "2023-11-03T14:16:49.814977Z",
     "iopub.status.idle": "2023-11-03T14:16:49.821161Z",
     "shell.execute_reply": "2023-11-03T14:16:49.820139Z",
     "shell.execute_reply.started": "2023-11-03T14:16:49.815749Z"
    },
    "papermill": {
     "duration": 0.027987,
     "end_time": "2023-10-30T06:18:04.781551",
     "exception": false,
     "start_time": "2023-10-30T06:18:04.753564",
     "status": "completed"
    },
    "tags": [],
    "trusted": true
   },
   "outputs": [],
   "source": [
    "meta['id'] = meta.index"
   ]
  },
  {
   "cell_type": "code",
   "execution_count": 17,
   "metadata": {
    "execution": {
     "iopub.execute_input": "2023-11-03T14:16:51.230936Z",
     "iopub.status.busy": "2023-11-03T14:16:51.230565Z",
     "iopub.status.idle": "2023-11-03T14:16:51.254377Z",
     "shell.execute_reply": "2023-11-03T14:16:51.253124Z",
     "shell.execute_reply.started": "2023-11-03T14:16:51.230898Z"
    },
    "papermill": {
     "duration": 0.051069,
     "end_time": "2023-10-30T06:18:04.853058",
     "exception": false,
     "start_time": "2023-10-30T06:18:04.801989",
     "status": "completed"
    },
    "tags": [],
    "trusted": true
   },
   "outputs": [],
   "source": [
    "# process del id has claim equal evidence in Refuted\n",
    "meta.drop(meta[(meta.claim == meta.evidence) & (meta.verdict == 'REFUTED')].index, inplace=True)"
   ]
  },
  {
   "cell_type": "code",
   "execution_count": 18,
   "metadata": {
    "execution": {
     "iopub.execute_input": "2023-11-03T14:16:51.961826Z",
     "iopub.status.busy": "2023-11-03T14:16:51.961042Z",
     "iopub.status.idle": "2023-11-03T14:16:51.966396Z",
     "shell.execute_reply": "2023-11-03T14:16:51.965092Z",
     "shell.execute_reply.started": "2023-11-03T14:16:51.961773Z"
    },
    "papermill": {
     "duration": 0.026867,
     "end_time": "2023-10-30T06:18:04.900621",
     "exception": false,
     "start_time": "2023-10-30T06:18:04.873754",
     "status": "completed"
    },
    "tags": [],
    "trusted": true
   },
   "outputs": [],
   "source": [
    "# meta[meta.claim == meta.evidence].verdict.value_counts()"
   ]
  },
  {
   "cell_type": "code",
   "execution_count": 19,
   "metadata": {
    "execution": {
     "iopub.execute_input": "2023-11-03T14:16:52.700045Z",
     "iopub.status.busy": "2023-11-03T14:16:52.699501Z",
     "iopub.status.idle": "2023-11-03T14:16:53.046267Z",
     "shell.execute_reply": "2023-11-03T14:16:53.045477Z",
     "shell.execute_reply.started": "2023-11-03T14:16:52.700018Z"
    },
    "papermill": {
     "duration": 0.044057,
     "end_time": "2023-10-30T06:18:04.965134",
     "exception": false,
     "start_time": "2023-10-30T06:18:04.921077",
     "status": "completed"
    },
    "tags": [],
    "trusted": true
   },
   "outputs": [],
   "source": [
    "meta.drop(meta[meta.claim == meta.evidence].index, inplace= True)"
   ]
  },
  {
   "cell_type": "code",
   "execution_count": 20,
   "metadata": {
    "execution": {
     "iopub.execute_input": "2023-11-03T14:16:53.659549Z",
     "iopub.status.busy": "2023-11-03T14:16:53.659241Z",
     "iopub.status.idle": "2023-11-03T14:16:53.666674Z",
     "shell.execute_reply": "2023-11-03T14:16:53.664633Z",
     "shell.execute_reply.started": "2023-11-03T14:16:53.659522Z"
    },
    "papermill": {
     "duration": 0.029102,
     "end_time": "2023-10-30T06:18:05.014794",
     "exception": false,
     "start_time": "2023-10-30T06:18:04.985692",
     "status": "completed"
    },
    "tags": [],
    "trusted": true
   },
   "outputs": [
    {
     "data": {
      "text/plain": [
       "35849"
      ]
     },
     "execution_count": 20,
     "metadata": {},
     "output_type": "execute_result"
    }
   ],
   "source": [
    "len(meta)"
   ]
  },
  {
   "cell_type": "code",
   "execution_count": 21,
   "metadata": {
    "execution": {
     "iopub.execute_input": "2023-11-03T14:16:54.410312Z",
     "iopub.status.busy": "2023-11-03T14:16:54.409963Z",
     "iopub.status.idle": "2023-11-03T14:16:55.014022Z",
     "shell.execute_reply": "2023-11-03T14:16:55.012923Z",
     "shell.execute_reply.started": "2023-11-03T14:16:54.410287Z"
    },
    "papermill": {
     "duration": 0.891482,
     "end_time": "2023-10-30T06:18:05.927013",
     "exception": false,
     "start_time": "2023-10-30T06:18:05.035531",
     "status": "completed"
    },
    "tags": [],
    "trusted": true
   },
   "outputs": [],
   "source": [
    "evi = []\n",
    "for i in meta.index:\n",
    "    if meta.verdict[i] == 'NEI':\n",
    "        evi.append(\"\")\n",
    "    else:\n",
    "        evi.append(meta.evidence[i])"
   ]
  },
  {
   "cell_type": "code",
   "execution_count": 22,
   "metadata": {
    "execution": {
     "iopub.execute_input": "2023-11-03T14:16:55.026003Z",
     "iopub.status.busy": "2023-11-03T14:16:55.025660Z",
     "iopub.status.idle": "2023-11-03T14:16:55.035565Z",
     "shell.execute_reply": "2023-11-03T14:16:55.034787Z",
     "shell.execute_reply.started": "2023-11-03T14:16:55.025976Z"
    },
    "papermill": {
     "duration": 0.032404,
     "end_time": "2023-10-30T06:18:05.980342",
     "exception": false,
     "start_time": "2023-10-30T06:18:05.947938",
     "status": "completed"
    },
    "tags": [],
    "trusted": true
   },
   "outputs": [],
   "source": [
    "meta.evidence = evi"
   ]
  },
  {
   "cell_type": "code",
   "execution_count": 25,
   "metadata": {
    "execution": {
     "iopub.execute_input": "2023-11-03T14:17:09.025538Z",
     "iopub.status.busy": "2023-11-03T14:17:09.025185Z",
     "iopub.status.idle": "2023-11-03T14:17:09.030990Z",
     "shell.execute_reply": "2023-11-03T14:17:09.029689Z",
     "shell.execute_reply.started": "2023-11-03T14:17:09.025508Z"
    },
    "papermill": {
     "duration": 0.029009,
     "end_time": "2023-10-30T06:18:06.078935",
     "exception": false,
     "start_time": "2023-10-30T06:18:06.049926",
     "status": "completed"
    },
    "tags": [],
    "trusted": true
   },
   "outputs": [],
   "source": [
    "# preprocess_text('\\n\\nỐc bươu nướng tiêu xanh\\n\\nĐây là một')"
   ]
  },
  {
   "cell_type": "code",
   "execution_count": 26,
   "metadata": {
    "execution": {
     "iopub.execute_input": "2023-11-03T14:17:09.933763Z",
     "iopub.status.busy": "2023-11-03T14:17:09.933382Z",
     "iopub.status.idle": "2023-11-03T14:17:09.940267Z",
     "shell.execute_reply": "2023-11-03T14:17:09.939004Z",
     "shell.execute_reply.started": "2023-11-03T14:17:09.933734Z"
    },
    "papermill": {
     "duration": 0.031292,
     "end_time": "2023-10-30T06:18:06.131128",
     "exception": false,
     "start_time": "2023-10-30T06:18:06.099836",
     "status": "completed"
    },
    "tags": [],
    "trusted": true
   },
   "outputs": [],
   "source": [
    "def process_data(text):\n",
    "    \n",
    "    # Process del \\n\\n\n",
    "    text = re.sub(r'(\\n)+', ' ',text) \n",
    "    # \n",
    "#     text = re.sub(r'\\.{2,}\\s*([a-z])', r', \\1',  text)\n",
    "\n",
    "#     text = re.sub(r'\\.{2,}\\s*([A-Z])', r'. \\1',  text)\n",
    "\n",
    "#     text = re.sub(r'([0-9]{1}).([0-9]{1})', r'\\1\\2',  text)\n",
    "    text = re.sub(r'(\\d)\\.(\\d)', r'\\1\\2', text)\n",
    "#     return text\n",
    "    text = text.replace('TP. HCM', 'TP.HCM')\n",
    "#     line_text = text.split('. ')\n",
    "#     new_line = []\n",
    "#     for line  in line_text:\n",
    "#         line = line.strip()\n",
    "#         if line == '.' or line == '' or line == ' ':\n",
    "# #             print('.')\n",
    "#             continue\n",
    "# #         line = preprocess_text(line)\n",
    "# #         print(line)\n",
    "#         new_line.append(line)\n",
    "    return text"
   ]
  },
  {
   "cell_type": "code",
   "execution_count": 27,
   "metadata": {
    "execution": {
     "iopub.execute_input": "2023-11-03T14:17:12.558278Z",
     "iopub.status.busy": "2023-11-03T14:17:12.557837Z",
     "iopub.status.idle": "2023-11-03T14:17:12.566226Z",
     "shell.execute_reply": "2023-11-03T14:17:12.564916Z",
     "shell.execute_reply.started": "2023-11-03T14:17:12.558247Z"
    },
    "papermill": {
     "duration": 0.030257,
     "end_time": "2023-10-30T06:18:06.182427",
     "exception": false,
     "start_time": "2023-10-30T06:18:06.152170",
     "status": "completed"
    },
    "tags": [],
    "trusted": true
   },
   "outputs": [
    {
     "data": {
      "text/plain": [
       "'Đại diện Khu công nghệ cao Hòa Lạc đề xuất, SHTP cần nâng cao năng lực của nhân sự các tổ chức trung gian có chức năng R&D, đào tạo, ươm tạo..'"
      ]
     },
     "execution_count": 27,
     "metadata": {},
     "output_type": "execute_result"
    }
   ],
   "source": [
    "process_data('Đại diện Khu công nghệ cao Hòa Lạc đề xuất, SHTP cần nâng cao năng lực của nhân sự các tổ chức trung gian có chức năng R&D, đào tạo, ươm tạo..')"
   ]
  },
  {
   "cell_type": "code",
   "execution_count": 28,
   "metadata": {
    "execution": {
     "iopub.execute_input": "2023-11-03T14:17:17.564440Z",
     "iopub.status.busy": "2023-11-03T14:17:17.564073Z",
     "iopub.status.idle": "2023-11-03T14:17:23.789095Z",
     "shell.execute_reply": "2023-11-03T14:17:23.787854Z",
     "shell.execute_reply.started": "2023-11-03T14:17:17.564410Z"
    },
    "papermill": {
     "duration": 21.445905,
     "end_time": "2023-10-30T06:18:27.649122",
     "exception": false,
     "start_time": "2023-10-30T06:18:06.203217",
     "status": "completed"
    },
    "tags": [],
    "trusted": true
   },
   "outputs": [],
   "source": [
    "meta.context = meta.context.apply(lambda x: process_data(x))"
   ]
  },
  {
   "cell_type": "code",
   "execution_count": 29,
   "metadata": {
    "execution": {
     "iopub.execute_input": "2023-11-03T14:17:23.790752Z",
     "iopub.status.busy": "2023-11-03T14:17:23.790457Z",
     "iopub.status.idle": "2023-11-03T14:17:24.156400Z",
     "shell.execute_reply": "2023-11-03T14:17:24.155303Z",
     "shell.execute_reply.started": "2023-11-03T14:17:23.790727Z"
    },
    "papermill": {
     "duration": 1.02274,
     "end_time": "2023-10-30T06:18:28.696157",
     "exception": false,
     "start_time": "2023-10-30T06:18:27.673417",
     "status": "completed"
    },
    "tags": [],
    "trusted": true
   },
   "outputs": [],
   "source": [
    "meta.claim = meta.claim.apply(lambda x: process_data(x))"
   ]
  },
  {
   "cell_type": "code",
   "execution_count": 30,
   "metadata": {
    "execution": {
     "iopub.execute_input": "2023-11-03T14:17:24.158385Z",
     "iopub.status.busy": "2023-11-03T14:17:24.157914Z",
     "iopub.status.idle": "2023-11-03T14:17:24.445126Z",
     "shell.execute_reply": "2023-11-03T14:17:24.444389Z",
     "shell.execute_reply.started": "2023-11-03T14:17:24.158348Z"
    },
    "papermill": {
     "duration": 0.805521,
     "end_time": "2023-10-30T06:18:29.522955",
     "exception": false,
     "start_time": "2023-10-30T06:18:28.717434",
     "status": "completed"
    },
    "tags": [],
    "trusted": true
   },
   "outputs": [],
   "source": [
    "meta.evidence = meta.evidence.apply(lambda x: process_data(x) if x != None else '')"
   ]
  },
  {
   "cell_type": "code",
   "execution_count": 36,
   "metadata": {
    "execution": {
     "iopub.execute_input": "2023-11-03T14:23:27.279861Z",
     "iopub.status.busy": "2023-11-03T14:23:27.279484Z",
     "iopub.status.idle": "2023-11-03T14:23:27.286920Z",
     "shell.execute_reply": "2023-11-03T14:23:27.286087Z",
     "shell.execute_reply.started": "2023-11-03T14:23:27.279833Z"
    },
    "papermill": {
     "duration": 0.027598,
     "end_time": "2023-10-30T06:18:29.571786",
     "exception": false,
     "start_time": "2023-10-30T06:18:29.544188",
     "status": "completed"
    },
    "tags": [],
    "trusted": true
   },
   "outputs": [
    {
     "data": {
      "text/plain": [
       "'Trường đại_học bách_khoa hà_nội'"
      ]
     },
     "execution_count": 36,
     "metadata": {},
     "output_type": "execute_result"
    }
   ],
   "source": [
    "from pyvi import ViTokenizer, ViPosTagger\n",
    "\n",
    "ViTokenizer.tokenize(u\"Trường đại học bách khoa hà nội\")"
   ]
  },
  {
   "cell_type": "code",
   "execution_count": 37,
   "metadata": {
    "execution": {
     "iopub.execute_input": "2023-11-03T14:23:35.247107Z",
     "iopub.status.busy": "2023-11-03T14:23:35.246725Z",
     "iopub.status.idle": "2023-11-03T14:23:35.252404Z",
     "shell.execute_reply": "2023-11-03T14:23:35.251282Z",
     "shell.execute_reply.started": "2023-11-03T14:23:35.247079Z"
    },
    "trusted": true
   },
   "outputs": [],
   "source": [
    "# !pip install pyvi"
   ]
  },
  {
   "cell_type": "code",
   "execution_count": 38,
   "metadata": {
    "execution": {
     "iopub.execute_input": "2023-11-03T14:23:46.382655Z",
     "iopub.status.busy": "2023-11-03T14:23:46.382318Z",
     "iopub.status.idle": "2023-11-03T14:23:57.701014Z",
     "shell.execute_reply": "2023-11-03T14:23:57.699969Z",
     "shell.execute_reply.started": "2023-11-03T14:23:46.382628Z"
    },
    "papermill": {
     "duration": 260.751452,
     "end_time": "2023-10-30T06:22:50.344063",
     "exception": false,
     "start_time": "2023-10-30T06:18:29.592611",
     "status": "completed"
    },
    "tags": [],
    "trusted": true
   },
   "outputs": [],
   "source": [
    "id_del_eviden_than2 = []\n",
    "\n",
    "for i in meta.index:\n",
    "    if meta.verdict[i] == 'NEI': continue\n",
    "    if len(ViTokenizer.tokenize(meta.evidence[i]).split()) <= 3:\n",
    "        id_del_eviden_than2.append(i)"
   ]
  },
  {
   "cell_type": "code",
   "execution_count": 39,
   "metadata": {
    "execution": {
     "iopub.execute_input": "2023-11-03T14:24:00.997992Z",
     "iopub.status.busy": "2023-11-03T14:24:00.997428Z",
     "iopub.status.idle": "2023-11-03T14:24:01.033822Z",
     "shell.execute_reply": "2023-11-03T14:24:01.032920Z",
     "shell.execute_reply.started": "2023-11-03T14:24:00.997957Z"
    },
    "papermill": {
     "duration": 0.050052,
     "end_time": "2023-10-30T06:22:50.415803",
     "exception": false,
     "start_time": "2023-10-30T06:22:50.365751",
     "status": "completed"
    },
    "tags": [],
    "trusted": true
   },
   "outputs": [
    {
     "name": "stdout",
     "output_type": "stream",
     "text": [
      "Have 5 case <= 2 \n"
     ]
    }
   ],
   "source": [
    "meta.drop(id_del_eviden_than2, inplace=True)\n",
    "print(f\"Have {len(id_del_eviden_than2)} case <= 2 \")"
   ]
  },
  {
   "cell_type": "code",
   "execution_count": 40,
   "metadata": {
    "execution": {
     "iopub.execute_input": "2023-11-03T14:24:02.655856Z",
     "iopub.status.busy": "2023-11-03T14:24:02.654706Z",
     "iopub.status.idle": "2023-11-03T14:24:02.666583Z",
     "shell.execute_reply": "2023-11-03T14:24:02.665455Z",
     "shell.execute_reply.started": "2023-11-03T14:24:02.655825Z"
    },
    "papermill": {
     "duration": 0.040834,
     "end_time": "2023-10-30T06:22:50.485843",
     "exception": false,
     "start_time": "2023-10-30T06:22:50.445009",
     "status": "completed"
    },
    "tags": [],
    "trusted": true
   },
   "outputs": [
    {
     "data": {
      "text/plain": [
       "verdict\n",
       "REFUTED      12350\n",
       "NEI          12276\n",
       "SUPPORTED    11212\n",
       "Name: count, dtype: int64"
      ]
     },
     "execution_count": 40,
     "metadata": {},
     "output_type": "execute_result"
    }
   ],
   "source": [
    "meta.verdict.value_counts()"
   ]
  },
  {
   "cell_type": "code",
   "execution_count": 42,
   "metadata": {
    "execution": {
     "iopub.execute_input": "2023-11-03T14:26:56.911036Z",
     "iopub.status.busy": "2023-11-03T14:26:56.910690Z",
     "iopub.status.idle": "2023-11-03T14:26:56.916027Z",
     "shell.execute_reply": "2023-11-03T14:26:56.915106Z",
     "shell.execute_reply.started": "2023-11-03T14:26:56.911011Z"
    },
    "trusted": true
   },
   "outputs": [],
   "source": [
    "def preprocess_text(text: str) -> str:    \n",
    "    text = re.sub(r\"['\\\",\\.\\?:\\-!]\", \"\", text)\n",
    "    text = text.strip()\n",
    "    text = \" \".join(text.split())\n",
    "    text = text.lower()\n",
    "    return text"
   ]
  },
  {
   "cell_type": "code",
   "execution_count": 43,
   "metadata": {
    "execution": {
     "iopub.execute_input": "2023-11-03T14:26:58.063370Z",
     "iopub.status.busy": "2023-11-03T14:26:58.062732Z",
     "iopub.status.idle": "2023-11-03T14:27:04.626158Z",
     "shell.execute_reply": "2023-11-03T14:27:04.625331Z",
     "shell.execute_reply.started": "2023-11-03T14:26:58.063332Z"
    },
    "papermill": {
     "duration": 8.948604,
     "end_time": "2023-10-30T06:22:59.456142",
     "exception": false,
     "start_time": "2023-10-30T06:22:50.507538",
     "status": "completed"
    },
    "tags": [],
    "trusted": true
   },
   "outputs": [],
   "source": [
    "## check evidence not in context line\n",
    "id_not_line = []\n",
    "for i in meta[meta.verdict != 'NEI'].index:\n",
    "    context = meta.context[i].split(\". \")\n",
    "    CHECK = False\n",
    "    for line in context:\n",
    "        if preprocess_text(line) == preprocess_text(meta.evidence[i]):\n",
    "            CHECK=True\n",
    "            break\n",
    "    if CHECK == False:\n",
    "        id_not_line.append(i)"
   ]
  },
  {
   "cell_type": "code",
   "execution_count": 44,
   "metadata": {
    "execution": {
     "iopub.execute_input": "2023-11-03T14:27:39.947591Z",
     "iopub.status.busy": "2023-11-03T14:27:39.947276Z",
     "iopub.status.idle": "2023-11-03T14:27:39.957485Z",
     "shell.execute_reply": "2023-11-03T14:27:39.956393Z",
     "shell.execute_reply.started": "2023-11-03T14:27:39.947565Z"
    },
    "papermill": {
     "duration": 0.033142,
     "end_time": "2023-10-30T06:22:59.511652",
     "exception": false,
     "start_time": "2023-10-30T06:22:59.478510",
     "status": "completed"
    },
    "tags": [],
    "trusted": true
   },
   "outputs": [
    {
     "data": {
      "text/plain": [
       "verdict\n",
       "REFUTED      264\n",
       "SUPPORTED     32\n",
       "Name: count, dtype: int64"
      ]
     },
     "execution_count": 44,
     "metadata": {},
     "output_type": "execute_result"
    }
   ],
   "source": [
    "meta[meta.id.isin(id_not_line)].verdict.value_counts()"
   ]
  },
  {
   "cell_type": "code",
   "execution_count": 45,
   "metadata": {
    "execution": {
     "iopub.execute_input": "2023-11-03T14:27:41.981696Z",
     "iopub.status.busy": "2023-11-03T14:27:41.981348Z",
     "iopub.status.idle": "2023-11-03T14:27:41.996029Z",
     "shell.execute_reply": "2023-11-03T14:27:41.995077Z",
     "shell.execute_reply.started": "2023-11-03T14:27:41.981672Z"
    },
    "papermill": {
     "duration": 0.039755,
     "end_time": "2023-10-30T06:22:59.572968",
     "exception": false,
     "start_time": "2023-10-30T06:22:59.533213",
     "status": "completed"
    },
    "tags": [],
    "trusted": true
   },
   "outputs": [],
   "source": [
    "meta.drop(id_not_line, inplace = True)"
   ]
  },
  {
   "cell_type": "code",
   "execution_count": 48,
   "metadata": {
    "execution": {
     "iopub.execute_input": "2023-11-03T14:27:45.149255Z",
     "iopub.status.busy": "2023-11-03T14:27:45.148842Z",
     "iopub.status.idle": "2023-11-03T14:27:45.156367Z",
     "shell.execute_reply": "2023-11-03T14:27:45.155116Z",
     "shell.execute_reply.started": "2023-11-03T14:27:45.149227Z"
    },
    "papermill": {
     "duration": 0.028632,
     "end_time": "2023-10-30T06:22:59.723398",
     "exception": false,
     "start_time": "2023-10-30T06:22:59.694766",
     "status": "completed"
    },
    "tags": [],
    "trusted": true
   },
   "outputs": [],
   "source": [
    "meta['id'] = meta.index"
   ]
  },
  {
   "cell_type": "code",
   "execution_count": 49,
   "metadata": {
    "execution": {
     "iopub.execute_input": "2023-11-03T14:27:53.111360Z",
     "iopub.status.busy": "2023-11-03T14:27:53.110997Z",
     "iopub.status.idle": "2023-11-03T14:27:54.044691Z",
     "shell.execute_reply": "2023-11-03T14:27:54.043500Z",
     "shell.execute_reply.started": "2023-11-03T14:27:53.111337Z"
    },
    "papermill": {
     "duration": 1.344684,
     "end_time": "2023-10-30T06:23:01.089537",
     "exception": false,
     "start_time": "2023-10-30T06:22:59.744853",
     "status": "completed"
    },
    "tags": [],
    "trusted": true
   },
   "outputs": [
    {
     "data": {
      "application/vnd.jupyter.widget-view+json": {
       "model_id": "15c9972e36c74b2e86aacf47f5114f90",
       "version_major": 2,
       "version_minor": 0
      },
      "text/plain": [
       "  0%|          | 0/35542 [00:00<?, ?it/s]"
      ]
     },
     "metadata": {},
     "output_type": "display_data"
    },
    {
     "name": "stdout",
     "output_type": "stream",
     "text": [
      "==========================\n",
      "Festival biển Nha Trang 2023 với chủ đề chủ đề \"Khánh Hòa - Khát vọng phát triển\" lần thứ 10 vừa diễn ra đã đón hàng trăm nghìn lượt khách, thu về gần 550 tỷ đồng. Festival diễn ra ngày 3-6/6, địa phương đã tổ chức chuỗi hoạt động đa dạng về nội dung và hình thức, phản ánh được những giá trị văn hóa của con người, tinh thần lao động hăng say, tình yêu biển đảo quê hương. Chương trình đã tạo được tiếng vang, được sự quan tâm của người dân, du khách trong và ngoài nước. Độ cao bay tối đa đạt 250 m và bán kính hoạt động 250 m. Mở đầu là hình ảnh chim yến vút bay lên bầu trời, thể hiện sự vươn cao, vươn xa của địa phương, khi các drone trình diễn ánh sáng đã được lập trình qua máy tính từ những hình ảnh sắp xếp hay đường bay, quỹ đạo bay. Cùng gia đình ở TP HCM tới Nha Trang chơi, chị Nguyễn Thị Phương, 35 tuổi, đã tới quảng trường xem khai mạc. “Mình nhiều lần xem Festival biển, song lần này khá ấn tượng với các tiết mục trong dịp lễ này, đặc biệt là bữa tiệc vẽ tranh ánh sáng trên bầu trời Nha Trang với hơn 1600 drone”, chị Phương bày tỏ. Sau đêm khai mạc, lễ hội còn nhiều sự kiện khác hấp dẫn khác. Lần đầu tiên địa phương này tổ chức hơn 6000 người mặc áo dài tập trung tại Quảng trường để cùng diễu hành “Tôn vinh áo dài - di sản văn hóa Việt Nam. Hàng nghìn phụ nữ mặc áo dài truyền thống, lẫn cách tân, đội nón lá đi bộ dọc đường Trần Phú - giáp biển. Ảnh: Vương Mạnh Cường. Lê Thị Ngọc Hảo chọn áo dài màu xanh dương, gần với thiên nhiên, kiểu dáng truyền thống hòa với dòng người diễu hành trên đường phố trung tâm TP Nha Trang. “Mặc trên mình chiếc áo dài để tham dự chương trình này em rất vui và tự hào”, Hảo (tay vẫy nón) chia sẻ và cho biết hàng trăm người là đồng nghiệp làm chung công ty với cô cũng tham gia hoạt động này. Ngoài ra, hơn 400 xe vespa cổ ở các tỉnh, thành cả nước đã tập trung tại Quảng trường để diễu hành trên các tuyến phố. Cùng tham gia diễu hành, Lee Hoa, cho biết cô đam mê xe cổ, nhất là vespa khi dòng xe này dùng số và côn tay. Tiếng nổ bô xe thì giòn tan. “Đây là hoạt động nhằm quảng bá về văn hóa - du lịch cho TP. Nha Trang cũng như tạo không khí vui tươi, mới lạ cho Festival Biển Nha Trang - Khánh Hòa năm nay”, Lee Hoa nói. Du khách đến thành phố biển Nha Trang sẽ được thưởng thức các món ăn, đặc sản độc đáo và tham gia nhiều hoạt động hấp dẫn của văn hóa ẩm thực Việt. Đặc biệt, du khách và người dân còn được chiêm ngưỡng những đầu bếp trổ tài khi dùng yến sào để chế biến các món ăn tại Festival là tinh hoa ẩm thực yến sào. Ông Lê Hữu Hoàng, Phó chủ tịch Thường trực UBND Khánh Hòa (áo xanh) cùng các lãnh đạo tỉnh kiểm tra các gian hàng chế biến ẩm thực. Cuộc thi ẩm thực càng thu hút đông đảo người tham dự khi có sự góp mặt của diễn viên Quyền Linh làm MC chương trình. 21 đội thi được ban tổ chức cung cấp 1,5 triệu đồng cùng 20 gram yến sào tinh chế đảo thiên nhiên, và phải hoàn thành 2 món ăn, gồm món mặn và ngọt. Sau 90 phút thi, các đội đã hoàn thành 42 món ăn, như chè, súp, cháo, và các món khác từ yến. Đây là dịp để tôn vinh, giới thiệu tinh hoa văn hóa ẩm thực Việt đến đông đảo người dân trong nước và du khách quốc tế. Đoàn diễu hành tái hiện lễ rước nghinh Ông. Đoàn diễu hành qua các tuyến phố, sau đó là nghi thức khai mạc lễ hội, các nghệ nhân và ngư dân thực hiện lễ tế Ông Nam Hải; múa trạo chầu; múa lục cúng hoa đăng. Hơn 10000 con cá giống được thả xuống vịnh Nha Trang để góp phần cân bằng hệ sinh thái, đa dạng sinh học, cân bằng môi trường hệ sinh thái biển. Ông Đinh Văn Thiệu (Phó Chủ tịch UBND tỉnh Khánh Hòa, Trưởng ban tổ chức Festival biển Nha Trang), bày tỏ Festival Biển Nha Trang lần thứ 10 đã thực sự chạm đến trái tim của người dân và du khách, lôi cuốn họ hòa mình vào một lễ hội văn hóa đầy sôi động, lung linh rực rỡ sắc màu giữa một không gian biển xanh, cát trắng, nắng vàng và tấm lòng hiền hậu của người dân Khánh Hòa. “Chúng ta có thể khẳng định Festival Biển Nha Trang - Khánh Hòa năm 2023 đã thành công tốt đẹp”, ông Thiệu nói. \n",
      "“Chúng ta có thể khẳng định Festival Biển Nha Trang - Khánh Hòa năm 2023 đã thành công tốt đẹp”, ông Thiệu nói..\n",
      "idx_not_find_evi\n",
      "[35951]\n"
     ]
    }
   ],
   "source": [
    "idx_not_find_evi = []\n",
    "for i in tqdm(meta.index):\n",
    "    if meta.verdict[i] != 'NEI':\n",
    "#         context = meta.context[i].split('. ')\n",
    "        idx = meta.context[i].find(meta.evidence[i])\n",
    "        if idx ==-1:\n",
    "            idx_not_find_evi.append(i)\n",
    "            print('==========================')\n",
    "            print(meta.context[i])\n",
    "            print(meta.evidence[i])\n",
    "            \n",
    "print('idx_not_find_evi')\n",
    "print(idx_not_find_evi)\n",
    "meta.drop(idx_not_find_evi, inplace=True)"
   ]
  },
  {
   "cell_type": "code",
   "execution_count": 50,
   "metadata": {
    "execution": {
     "iopub.execute_input": "2023-11-03T14:27:56.834901Z",
     "iopub.status.busy": "2023-11-03T14:27:56.834579Z",
     "iopub.status.idle": "2023-11-03T14:27:56.846270Z",
     "shell.execute_reply": "2023-11-03T14:27:56.845119Z",
     "shell.execute_reply.started": "2023-11-03T14:27:56.834875Z"
    },
    "papermill": {
     "duration": 0.037656,
     "end_time": "2023-10-30T06:23:01.149024",
     "exception": false,
     "start_time": "2023-10-30T06:23:01.111368",
     "status": "completed"
    },
    "tags": [],
    "trusted": true
   },
   "outputs": [
    {
     "data": {
      "text/plain": [
       "verdict\n",
       "NEI          12276\n",
       "REFUTED      12086\n",
       "SUPPORTED    11179\n",
       "Name: count, dtype: int64"
      ]
     },
     "execution_count": 50,
     "metadata": {},
     "output_type": "execute_result"
    }
   ],
   "source": [
    "meta.verdict.value_counts()"
   ]
  },
  {
   "cell_type": "code",
   "execution_count": 51,
   "metadata": {
    "execution": {
     "iopub.execute_input": "2023-11-03T14:28:01.826118Z",
     "iopub.status.busy": "2023-11-03T14:28:01.825762Z",
     "iopub.status.idle": "2023-11-03T14:28:01.833666Z",
     "shell.execute_reply": "2023-11-03T14:28:01.832765Z",
     "shell.execute_reply.started": "2023-11-03T14:28:01.826085Z"
    },
    "papermill": {
     "duration": 0.032095,
     "end_time": "2023-10-30T06:23:01.202842",
     "exception": false,
     "start_time": "2023-10-30T06:23:01.170747",
     "status": "completed"
    },
    "tags": [],
    "trusted": true
   },
   "outputs": [],
   "source": [
    "from sklearn.feature_extraction.text import TfidfVectorizer\n",
    "from sklearn.metrics.pairwise import cosine_similarity\n",
    "def compute_tfidf(context, claim, model = False, thres= 0.5):\n",
    "    \n",
    "    tfidf_vectorizer = TfidfVectorizer()\n",
    "    corpus = context.split('. ') \n",
    "    answer = corpus.copy()\n",
    "    \n",
    "#     corpus.append(claim)\n",
    "    claim = segmentation_token(claim)\n",
    "    len_claim = len(claim.split(' '))\n",
    "    corpus_pro = []\n",
    "    for i in range(len(corpus)):\n",
    "        \n",
    "        corpus[i] = segmentation_token(corpus[i])\n",
    "        \n",
    "        sentence = corpus[i]\n",
    "        \n",
    "#         l = len(sentence.split(' '))\n",
    "        \n",
    "#         p  = l/len_claim\n",
    "        \n",
    "#         if i != 0 and p < thres and l > 1 :\n",
    "#             sentence = f'{corpus[i-1]} . {sentence}'\n",
    "        corpus_pro.append(sentence)\n",
    "    corpus_pro.append(claim)\n",
    "    tfidf_matrix = tfidf_vectorizer.fit_transform(corpus_pro)\n",
    "    cosine_sim = cosine_similarity(tfidf_matrix, tfidf_matrix)\n",
    "    idx = np.argmax(cosine_sim[len(corpus_pro)-1, :-1])\n",
    "    return answer[idx]"
   ]
  },
  {
   "cell_type": "code",
   "execution_count": 52,
   "metadata": {
    "execution": {
     "iopub.execute_input": "2023-11-03T14:28:07.102886Z",
     "iopub.status.busy": "2023-11-03T14:28:07.102566Z",
     "iopub.status.idle": "2023-11-03T14:28:07.110291Z",
     "shell.execute_reply": "2023-11-03T14:28:07.109134Z",
     "shell.execute_reply.started": "2023-11-03T14:28:07.102859Z"
    },
    "papermill": {
     "duration": 0.029957,
     "end_time": "2023-10-30T06:23:01.254357",
     "exception": false,
     "start_time": "2023-10-30T06:23:01.224400",
     "status": "completed"
    },
    "tags": [],
    "trusted": true
   },
   "outputs": [],
   "source": [
    "def get_top_evidence(claim, context):\n",
    "    claim_value = claim\n",
    "    context_value = context\n",
    "\n",
    "    context = context_value.split('. ')\n",
    "    context = [line for line in context]\n",
    "\n",
    "    tokenized_context = [doc.split(' ') for doc in context]\n",
    "    bm25 = BM25Okapi(tokenized_context)\n",
    "    scores = bm25.get_scores(claim_value.split())\n",
    "\n",
    "    score_sentence_pairs = sorted(zip(scores, context), reverse=True)\n",
    "    highest_sentence = []\n",
    "    for _, x in score_sentence_pairs[:25]:\n",
    "        highest_sentence.append(x)\n",
    "#     _, highest_sentence = score_sentence_pairs[0]\n",
    "    return highest_sentence"
   ]
  },
  {
   "cell_type": "code",
   "execution_count": 54,
   "metadata": {
    "execution": {
     "iopub.execute_input": "2023-11-03T14:28:13.001872Z",
     "iopub.status.busy": "2023-11-03T14:28:13.001018Z",
     "iopub.status.idle": "2023-11-03T14:28:13.040266Z",
     "shell.execute_reply": "2023-11-03T14:28:13.038860Z",
     "shell.execute_reply.started": "2023-11-03T14:28:13.001825Z"
    },
    "papermill": {
     "duration": 14.316066,
     "end_time": "2023-10-30T06:23:16.846308",
     "exception": false,
     "start_time": "2023-10-30T06:23:02.530242",
     "status": "completed"
    },
    "tags": [],
    "trusted": true
   },
   "outputs": [
    {
     "ename": "ModuleNotFoundError",
     "evalue": "No module named 'sentence_transformers'",
     "output_type": "error",
     "traceback": [
      "\u001b[0;31m---------------------------------------------------------------------------\u001b[0m",
      "\u001b[0;31mModuleNotFoundError\u001b[0m                       Traceback (most recent call last)",
      "Cell \u001b[0;32mIn[54], line 2\u001b[0m\n\u001b[1;32m      1\u001b[0m \u001b[38;5;66;03m# !pip install sentence_transformers\u001b[39;00m\n\u001b[0;32m----> 2\u001b[0m \u001b[38;5;28;01mfrom\u001b[39;00m \u001b[38;5;21;01msentence_transformers\u001b[39;00m \u001b[38;5;28;01mimport\u001b[39;00m SentenceTransformer, util\n",
      "\u001b[0;31mModuleNotFoundError\u001b[0m: No module named 'sentence_transformers'"
     ]
    }
   ],
   "source": [
    "# !pip install sentence_transformers\n",
    "from sentence_transformers import SentenceTransformer, util"
   ]
  },
  {
   "cell_type": "code",
   "execution_count": 232,
   "metadata": {
    "execution": {
     "iopub.execute_input": "2023-11-01T16:22:47.290612Z",
     "iopub.status.busy": "2023-11-01T16:22:47.290296Z",
     "iopub.status.idle": "2023-11-01T16:22:48.944120Z",
     "shell.execute_reply": "2023-11-01T16:22:48.943329Z",
     "shell.execute_reply.started": "2023-11-01T16:22:47.290585Z"
    },
    "papermill": {
     "duration": 16.289804,
     "end_time": "2023-10-30T06:23:33.159575",
     "exception": false,
     "start_time": "2023-10-30T06:23:16.869771",
     "status": "completed"
    },
    "tags": [],
    "trusted": true
   },
   "outputs": [],
   "source": [
    "model_semantic_search = SentenceTransformer('bkai-foundation-models/vietnamese-bi-encoder')\n",
    "model_semantic_search.to('cuda')\n",
    "def compute_simulate(sentence1, sentence2):\n",
    "    #Compute embedding for both lists\n",
    "    \n",
    "    embedding_1= model_semantic_search.encode(sentence1, convert_to_tensor=True, show_progress_bar=False, device='cuda')\n",
    "    embedding_2 = model_semantic_search.encode(sentence2, convert_to_tensor=True, show_progress_bar=False, device='cuda')\n",
    "\n",
    "    return util.pytorch_cos_sim(embedding_1, embedding_2).item()"
   ]
  },
  {
   "cell_type": "code",
   "execution_count": 55,
   "metadata": {
    "execution": {
     "iopub.execute_input": "2023-11-03T14:28:20.733707Z",
     "iopub.status.busy": "2023-11-03T14:28:20.733357Z",
     "iopub.status.idle": "2023-11-03T14:28:20.740321Z",
     "shell.execute_reply": "2023-11-03T14:28:20.739451Z",
     "shell.execute_reply.started": "2023-11-03T14:28:20.733681Z"
    },
    "papermill": {
     "duration": 0.035283,
     "end_time": "2023-10-30T06:23:33.342774",
     "exception": false,
     "start_time": "2023-10-30T06:23:33.307491",
     "status": "completed"
    },
    "tags": [],
    "trusted": true
   },
   "outputs": [],
   "source": [
    "def get_top_evidence(claim, context, evidence):\n",
    "    claim_value = claim\n",
    "    context_value = context\n",
    "\n",
    "    context = context_value.split('. ')\n",
    "    context = [line for line in context]\n",
    "\n",
    "    tokenized_context = [doc.split(' ') for doc in context]\n",
    "    bm25 = BM25Okapi(tokenized_context)\n",
    "    scores = bm25.get_scores(claim_value.split())\n",
    "\n",
    "    score_sentence_pairs = sorted(zip(scores, context), reverse=True)\n",
    "    highest_sentence = []\n",
    "    \n",
    "    for _, x in score_sentence_pairs[:1]:\n",
    "        highest_sentence.append(x)\n",
    "#     if evidence != \"\":\n",
    "#         if evidence not in highest_sentence:\n",
    "#             highest_sentence.append(evidence)\n",
    "#     _, highest_sentence = score_sentence_pairs[0]\n",
    "    return highest_sentence[0]"
   ]
  },
  {
   "cell_type": "code",
   "execution_count": 173,
   "metadata": {
    "execution": {
     "iopub.execute_input": "2023-11-03T15:01:03.838045Z",
     "iopub.status.busy": "2023-11-03T15:01:03.837644Z",
     "iopub.status.idle": "2023-11-03T15:01:03.851894Z",
     "shell.execute_reply": "2023-11-03T15:01:03.850361Z",
     "shell.execute_reply.started": "2023-11-03T15:01:03.838003Z"
    },
    "trusted": true
   },
   "outputs": [],
   "source": [
    "data = meta.copy()"
   ]
  },
  {
   "cell_type": "code",
   "execution_count": 175,
   "metadata": {
    "execution": {
     "iopub.execute_input": "2023-11-03T15:01:04.235296Z",
     "iopub.status.busy": "2023-11-03T15:01:04.234940Z",
     "iopub.status.idle": "2023-11-03T15:01:14.073667Z",
     "shell.execute_reply": "2023-11-03T15:01:14.072265Z",
     "shell.execute_reply.started": "2023-11-03T15:01:04.235267Z"
    },
    "trusted": true
   },
   "outputs": [
    {
     "data": {
      "application/vnd.jupyter.widget-view+json": {
       "model_id": "5543e4a614ac450a9fe6677d2cd11bfb",
       "version_major": 2,
       "version_minor": 0
      },
      "text/plain": [
       "  0%|          | 0/35541 [00:00<?, ?it/s]"
      ]
     },
     "metadata": {},
     "output_type": "display_data"
    },
    {
     "name": "stdout",
     "output_type": "stream",
     "text": [
      "[{'id': 34515, 'context': 'Đại nội Huế nằm trong Kinh thành Huế được xây dựng năm 1804 dưới thời vua Gia Long, đến năm 1833 đời vua Minh Mạng mới hoàn thiện với khoảng 147 công trình. Toàn bộ hệ thống cung điện được bố trí trên một trục đối xứng, trong đó trục chính giữa là các công trình chỉ dành cho vua. Các công trình ở hai bên được phân bố chặt chẽ theo từng khu vực, tuân thủ nguyên tắc \"tả nam hữu nữ\", \"tả văn hữu võ\". Khu vực Đại nội nổi bật với các công trình và hiện vật như cửa Ngọ Môn, lầu Ngũ Phụng, điện Thái Hòa nơi đặt ngai vàng, Thế Tổ Miếu nơi đặt cửu đỉnh hay điện Kiến Trung đang được trung tu, tu bổ. Giá vé tham quan 200000 đồng. Lăng vua Gia Long hay Thiên Thọ lăng ở xã Hương Thọ là nơi an nghỉ của hoàng đế Gia Long (1762- 1820) cùng hai người vợ là Thừa Thiên Cao Hoàng hậu và Thuận Thiên Cao Hoàng hậu. Lăng được xây dựng từ năm 1814 đến năm 1820. Quần thể lăng vua Gia Long có vị trí phong thủy đẹp nhất trong những lăng vua triều Nguyễn. Sử cũ cho hay, thầy địa lý Lê Duy Thanh (con trai nhà bác học Lê Quý Đôn) là người tìm được thế đất này, nơi mà theo ông \"đã tập trung được mọi ảnh hưởng tốt lành tỏa ra từ nhiều núi đồi bao quanh\". Giá vé tham quan 150000 đồng Lăng vua Minh Mạng còn gọi là Hiếu Lăng nằm trên núi Cẩm Khê, gần ngã ba Bằng Lãng, nơi hội lưu của hai dòng Hữu Trạch và Tả Trạch hợp thành sông Hương. Lăng Minh Mạng được xây dựng từ năm 1840 đến năm 1843, cách trung tâm thành phố Huế 12 km. Theo sử sách, đích thân vua Minh Mạng xem xét, phê chuẩn họa đồ thiết kế do các quan Bùi Công Huyên, Trương Đăng Quế và Giám thành vệ dâng lên. Tháng 4/1840, công cuộc kiến thiết Hiếu Lăng bắt đầu. Lăng vua Minh Mạng có bố cục kiến trúc đối xứng', 'evidence': 'Giá vé tham quan 150000 đồng', 'label': 'REFUTED', 'claim': 'Lăng vua Gia Long có giá vé tham quan là 100000 đồng'}, {'id': 34515, 'context': ' Xung quanh một trục kiến trúc là đường thần đạo, xuyên qua loạt công trình gồm: cửa chính, sân chầu, nhà bia, sân tế, Hiển Đức môn, điện Sùng Ân, hồ Trừng Minh, Minh Lâu, hồ Tân Nguyệt, cổng tam quan Quang Minh Chính Trực, Trung Đạo kiều và cuối cùng là bửu thành. Lăng có diện tích 18 ha (diện tích cấm địa quanh lăng là 475 ha), xung quanh có thành bao bọc. Giá vé tham quan 150000 đồng. Lăng vua Thiệu Trị nằm ở làng Cư Chánh xã Thủy Bằng, thị xã Hương Thủy, là nơi chôn cất hoàng đế Thiệu Trị (1807-1847), vị vua thứ ba của triều Nguyễn. Đây là lăng vua triều Nguyễn duy nhất xoay về hướng tây bắc. Do quần thể lăng vua Thiệu Trị có nhiều công trình bị hư hại do chiến tranh nên giá vé tham quan chỉ 50000 đồng. Khiêm Lăng nằm ở phường Thủy Xuân, TP Huế là nơi chôn cất vua Tự Đức (1829 - 1883), vị vua có thời gian trị vì triều Nguyễn lâu nhất với 36 năm. Lăng được xây dựng từ năm 1866 đến năm 1873 thì cơ bản hoàn thành. Lăng Tự Đức có khuôn viên rộng, nằm ở khu vực cao nhất, xung quanh được bao bọc bởi rừng thông cổ thụ, cây sứ. Tư Lăng nằm trên núi Cư Sĩ và đồi Hộ Thuận Sơn, phường Thủy Xuân, TP Huế, là nơi an nghỉ của vua Đồng Khánh (1864-1888). Việc xây dựng lăng mộ vua Đồng Khánh diễn ra nhiều đợt và kéo dài gần 35 năm, qua bốn đời vua, bắt đầu cuối đời vua Đồng Khánh và đến đời vua Khải Định mới hoàn chỉnh. Tư Lăng có hơn 20 công trình lớn nhỏ, kiến trúc không khác gì so với lăng mộ các vị vua tiền triều như Tự Đức hay Thiệu Trị. Giá vé tham quan 100000 đồng. Lăng vua Khải Định nằm ở triền núi Châu Chữ thuộc xã Thủy Bằng, thị xã Hương Thủy là nơi an nghỉ của vua Khải Định (1885 -1925). Lăng được khởi công xây dựng vào năm 1920 và 11 năm sau mới hoàn thành với kiến trúc như ngày nay', 'evidence': 'Giá vé tham quan 150000 đồng', 'label': 'REFUTED', 'claim': 'Lăng vua Gia Long có giá vé tham quan là 100000 đồng'}]\n",
      "++++++++++++++\n"
     ]
    }
   ],
   "source": [
    "new_data = []\n",
    "\n",
    "for i in tqdm(data.index):\n",
    "    \n",
    "    lines = data.context[i].split('.')\n",
    "    tokens = data.context[i].split(' ')\n",
    "    if len(tokens) <= 400: \n",
    "        new_data.append({\n",
    "                'id': data['id'][i],\n",
    "                'context': data['context'][i],\n",
    "                'claim': data['claim'][i],\n",
    "                'verdict': data['verdict'][i],\n",
    "                'evidence': data['evidence'][i]\n",
    "            })\n",
    "        continue\n",
    "        \n",
    "    token_line = [l.split(' ') for l in lines]\n",
    "    \n",
    "    tmp_context_token = []\n",
    "    tmp_context = []\n",
    "    cnt = 0\n",
    "    error = []\n",
    "    for idx in range(len(lines)):\n",
    "        check = True\n",
    "        if len(token_line[idx] + tmp_context_token) <=400:\n",
    "            tmp_context_token += token_line[idx]\n",
    "            tmp_context.append(lines[idx])\n",
    "            check = False\n",
    "        \n",
    "        if len(token_line[idx] + tmp_context_token) > 400 or idx == len(lines) - 1:\n",
    "            context = '.'.join(tmp_context)\n",
    "            if len(context) == 0: continue\n",
    "            label = 'NEI'\n",
    "            evidence = ''\n",
    "            if context.find(data['evidence'][i]) != -1 and data['verdict'][i] != 'NEI':\n",
    "                label = data['verdict'][i]\n",
    "                evidence = data['evidence'][i]\n",
    "                cnt+=1\n",
    "                error.append({\n",
    "                    'id': data['id'][i],\n",
    "                    'context':context,\n",
    "                    'evidence': data['evidence'][i],\n",
    "                    'label':label,\n",
    "                    'claim': data['claim'][i]\n",
    "                })\n",
    "            new_data.append({\n",
    "                'id': data['id'][i],\n",
    "                'context': context,\n",
    "                'claim': data['claim'][i],\n",
    "                'verdict': label,\n",
    "                'evidence': evidence\n",
    "            })\n",
    "            if check:\n",
    "                # Reset status\n",
    "                tmp_context_token = token_line[idx] \n",
    "                tmp_context = [lines[idx]]\n",
    "            else:\n",
    "                tmp_context_token = []\n",
    "                tmp_context = []\n",
    "#     print(cnt)\n",
    "    if cnt>1:\n",
    "        print(error)\n",
    "        print(\"++++++++++++++\")"
   ]
  },
  {
   "cell_type": "code",
   "execution_count": 176,
   "metadata": {
    "execution": {
     "iopub.execute_input": "2023-11-03T15:01:14.076320Z",
     "iopub.status.busy": "2023-11-03T15:01:14.075924Z",
     "iopub.status.idle": "2023-11-03T15:01:14.087732Z",
     "shell.execute_reply": "2023-11-03T15:01:14.086666Z",
     "shell.execute_reply.started": "2023-11-03T15:01:14.076284Z"
    },
    "trusted": true
   },
   "outputs": [
    {
     "data": {
      "text/plain": [
       "verdict\n",
       "NEI          12276\n",
       "REFUTED      12086\n",
       "SUPPORTED    11179\n",
       "Name: count, dtype: int64"
      ]
     },
     "execution_count": 176,
     "metadata": {},
     "output_type": "execute_result"
    }
   ],
   "source": [
    "meta.verdict.value_counts()"
   ]
  },
  {
   "cell_type": "code",
   "execution_count": 177,
   "metadata": {
    "execution": {
     "iopub.execute_input": "2023-11-03T15:01:14.089465Z",
     "iopub.status.busy": "2023-11-03T15:01:14.089140Z",
     "iopub.status.idle": "2023-11-03T15:01:14.374937Z",
     "shell.execute_reply": "2023-11-03T15:01:14.373938Z",
     "shell.execute_reply.started": "2023-11-03T15:01:14.089440Z"
    },
    "papermill": {
     "duration": 0.201383,
     "end_time": "2023-10-30T06:24:57.546174",
     "exception": false,
     "start_time": "2023-10-30T06:24:57.344791",
     "status": "completed"
    },
    "tags": [],
    "trusted": true
   },
   "outputs": [
    {
     "data": {
      "text/plain": [
       "verdict\n",
       "NEI          55135\n",
       "REFUTED      11768\n",
       "SUPPORTED    10928\n",
       "Name: count, dtype: int64"
      ]
     },
     "execution_count": 177,
     "metadata": {},
     "output_type": "execute_result"
    }
   ],
   "source": [
    "data = pd.DataFrame(new_data)\n",
    "data.verdict.value_counts()"
   ]
  },
  {
   "cell_type": "code",
   "execution_count": 179,
   "metadata": {
    "execution": {
     "iopub.execute_input": "2023-11-03T15:01:15.564369Z",
     "iopub.status.busy": "2023-11-03T15:01:15.563994Z",
     "iopub.status.idle": "2023-11-03T15:01:15.569331Z",
     "shell.execute_reply": "2023-11-03T15:01:15.568209Z",
     "shell.execute_reply.started": "2023-11-03T15:01:15.564345Z"
    },
    "papermill": {
     "duration": null,
     "end_time": null,
     "exception": null,
     "start_time": null,
     "status": "pending"
    },
    "tags": [],
    "trusted": true
   },
   "outputs": [],
   "source": [
    "data['idx'] = range(len(data))"
   ]
  },
  {
   "cell_type": "code",
   "execution_count": 180,
   "metadata": {
    "execution": {
     "iopub.execute_input": "2023-11-03T15:01:16.377379Z",
     "iopub.status.busy": "2023-11-03T15:01:16.376994Z",
     "iopub.status.idle": "2023-11-03T15:01:16.407382Z",
     "shell.execute_reply": "2023-11-03T15:01:16.405801Z",
     "shell.execute_reply.started": "2023-11-03T15:01:16.377348Z"
    },
    "papermill": {
     "duration": null,
     "end_time": null,
     "exception": null,
     "start_time": null,
     "status": "pending"
    },
    "tags": [],
    "trusted": true
   },
   "outputs": [],
   "source": [
    "data = data.sample(frac=1)"
   ]
  },
  {
   "cell_type": "code",
   "execution_count": 200,
   "metadata": {
    "execution": {
     "iopub.execute_input": "2023-11-03T15:02:54.047093Z",
     "iopub.status.busy": "2023-11-03T15:02:54.046735Z",
     "iopub.status.idle": "2023-11-03T15:02:54.075515Z",
     "shell.execute_reply": "2023-11-03T15:02:54.074849Z",
     "shell.execute_reply.started": "2023-11-03T15:02:54.047064Z"
    },
    "trusted": true
   },
   "outputs": [
    {
     "name": "stdout",
     "output_type": "stream",
     "text": [
      "11179 12086 12276\n"
     ]
    }
   ],
   "source": [
    "id_list_support = np.unique(meta[meta.verdict=='SUPPORTED'].id)\n",
    "id_list_refuse = np.unique(meta[meta.verdict=='REFUTED'].id)\n",
    "id_list_nei = np.unique(meta[meta.verdict=='NEI'].id)\n",
    "\n",
    "print(len(id_list_support), len(id_list_refuse), len(id_list_nei))"
   ]
  },
  {
   "cell_type": "code",
   "execution_count": 201,
   "metadata": {
    "execution": {
     "iopub.execute_input": "2023-11-03T15:02:54.905421Z",
     "iopub.status.busy": "2023-11-03T15:02:54.904588Z",
     "iopub.status.idle": "2023-11-03T15:02:54.912779Z",
     "shell.execute_reply": "2023-11-03T15:02:54.912005Z",
     "shell.execute_reply.started": "2023-11-03T15:02:54.905390Z"
    },
    "trusted": true
   },
   "outputs": [],
   "source": [
    "train_support, test_support  = train_test_split(id_list_support, test_size=0.2, random_state=42)\n",
    "train_refuse, test_refuse  = train_test_split(id_list_refuse, test_size=0.2, random_state=42)\n",
    "train_nei, test_nei  = train_test_split(id_list_nei, test_size=0.5, random_state=42)"
   ]
  },
  {
   "cell_type": "code",
   "execution_count": 202,
   "metadata": {
    "execution": {
     "iopub.execute_input": "2023-11-03T15:02:55.657210Z",
     "iopub.status.busy": "2023-11-03T15:02:55.656117Z",
     "iopub.status.idle": "2023-11-03T15:02:55.676591Z",
     "shell.execute_reply": "2023-11-03T15:02:55.675378Z",
     "shell.execute_reply.started": "2023-11-03T15:02:55.657162Z"
    },
    "trusted": true
   },
   "outputs": [],
   "source": [
    "train_support = data[data.id.isin(train_support)]\n",
    "train_refuse = data[data.id.isin(train_refuse)]\n",
    "train_nei = data[data.id.isin(train_nei)]"
   ]
  },
  {
   "cell_type": "code",
   "execution_count": 203,
   "metadata": {
    "execution": {
     "iopub.execute_input": "2023-11-03T15:02:56.237300Z",
     "iopub.status.busy": "2023-11-03T15:02:56.236264Z",
     "iopub.status.idle": "2023-11-03T15:02:56.254102Z",
     "shell.execute_reply": "2023-11-03T15:02:56.253316Z",
     "shell.execute_reply.started": "2023-11-03T15:02:56.237254Z"
    },
    "trusted": true
   },
   "outputs": [],
   "source": [
    "test_support = data[data.id.isin(test_support)]\n",
    "test_refuse = data[data.id.isin(test_refuse)]\n",
    "test_nei = data[data.id.isin(test_nei)]\n",
    "test_nei = test_nei.sample(n  =2500)"
   ]
  },
  {
   "cell_type": "code",
   "execution_count": 209,
   "metadata": {
    "execution": {
     "iopub.execute_input": "2023-11-03T15:03:29.914265Z",
     "iopub.status.busy": "2023-11-03T15:03:29.913867Z",
     "iopub.status.idle": "2023-11-03T15:03:29.945578Z",
     "shell.execute_reply": "2023-11-03T15:03:29.944597Z",
     "shell.execute_reply.started": "2023-11-03T15:03:29.914234Z"
    },
    "trusted": true
   },
   "outputs": [],
   "source": [
    "train = pd.concat([train_support, train_refuse, train_nei]).sample(frac=1, random_state=42)\n",
    "test = pd.concat([test_support, test_refuse, test_nei]).sample(frac=1, random_state=42)"
   ]
  },
  {
   "cell_type": "code",
   "execution_count": 210,
   "metadata": {
    "execution": {
     "iopub.execute_input": "2023-11-03T15:03:31.032702Z",
     "iopub.status.busy": "2023-11-03T15:03:31.032332Z",
     "iopub.status.idle": "2023-11-03T15:03:31.044629Z",
     "shell.execute_reply": "2023-11-03T15:03:31.042862Z",
     "shell.execute_reply.started": "2023-11-03T15:03:31.032677Z"
    },
    "trusted": true
   },
   "outputs": [
    {
     "data": {
      "text/plain": [
       "(24749, 6797)"
      ]
     },
     "execution_count": 210,
     "metadata": {},
     "output_type": "execute_result"
    }
   ],
   "source": [
    "len(np.unique(train.id)), len(np.unique(test.id))\n"
   ]
  },
  {
   "cell_type": "code",
   "execution_count": 211,
   "metadata": {
    "execution": {
     "iopub.execute_input": "2023-11-03T15:03:31.862620Z",
     "iopub.status.busy": "2023-11-03T15:03:31.862251Z",
     "iopub.status.idle": "2023-11-03T15:03:31.875896Z",
     "shell.execute_reply": "2023-11-03T15:03:31.874934Z",
     "shell.execute_reply.started": "2023-11-03T15:03:31.862592Z"
    },
    "trusted": true
   },
   "outputs": [
    {
     "data": {
      "text/plain": [
       "verdict\n",
       "NEI          35934\n",
       "REFUTED       9410\n",
       "SUPPORTED     8741\n",
       "Name: count, dtype: int64"
      ]
     },
     "execution_count": 211,
     "metadata": {},
     "output_type": "execute_result"
    }
   ],
   "source": [
    "train.verdict.value_counts()\n"
   ]
  },
  {
   "cell_type": "code",
   "execution_count": 212,
   "metadata": {
    "execution": {
     "iopub.execute_input": "2023-11-03T15:03:32.524476Z",
     "iopub.status.busy": "2023-11-03T15:03:32.524019Z",
     "iopub.status.idle": "2023-11-03T15:03:32.534100Z",
     "shell.execute_reply": "2023-11-03T15:03:32.532814Z",
     "shell.execute_reply.started": "2023-11-03T15:03:32.524449Z"
    },
    "trusted": true
   },
   "outputs": [
    {
     "data": {
      "text/plain": [
       "verdict\n",
       "NEI          8051\n",
       "REFUTED      2358\n",
       "SUPPORTED    2187\n",
       "Name: count, dtype: int64"
      ]
     },
     "execution_count": 212,
     "metadata": {},
     "output_type": "execute_result"
    }
   ],
   "source": [
    "test.verdict.value_counts()"
   ]
  },
  {
   "cell_type": "code",
   "execution_count": 213,
   "metadata": {
    "execution": {
     "iopub.execute_input": "2023-11-03T15:03:39.416001Z",
     "iopub.status.busy": "2023-11-03T15:03:39.415644Z",
     "iopub.status.idle": "2023-11-03T15:03:41.357527Z",
     "shell.execute_reply": "2023-11-03T15:03:41.356366Z",
     "shell.execute_reply.started": "2023-11-03T15:03:39.415975Z"
    },
    "trusted": true
   },
   "outputs": [],
   "source": [
    "train.to_csv('/kaggle/working/train.csv', escapechar='\\\\')"
   ]
  },
  {
   "cell_type": "code",
   "execution_count": 214,
   "metadata": {
    "execution": {
     "iopub.execute_input": "2023-11-03T15:03:41.360703Z",
     "iopub.status.busy": "2023-11-03T15:03:41.359347Z",
     "iopub.status.idle": "2023-11-03T15:03:41.842523Z",
     "shell.execute_reply": "2023-11-03T15:03:41.841430Z",
     "shell.execute_reply.started": "2023-11-03T15:03:41.360654Z"
    },
    "trusted": true
   },
   "outputs": [],
   "source": [
    "test.to_csv('/kaggle/working/test.csv', escapechar='\\\\')"
   ]
  },
  {
   "cell_type": "code",
   "execution_count": 216,
   "metadata": {
    "execution": {
     "iopub.execute_input": "2023-11-03T15:03:52.270406Z",
     "iopub.status.busy": "2023-11-03T15:03:52.269996Z",
     "iopub.status.idle": "2023-11-03T15:03:52.277155Z",
     "shell.execute_reply": "2023-11-03T15:03:52.276015Z",
     "shell.execute_reply.started": "2023-11-03T15:03:52.270382Z"
    },
    "trusted": true
   },
   "outputs": [
    {
     "name": "stdout",
     "output_type": "stream",
     "text": [
      "Description has been written to description.txt\n"
     ]
    }
   ],
   "source": [
    "description = '''\n",
    "Data had follow weight trained with data old version 21\n",
    "\n",
    "Train: \n",
    "    NEI          35934\n",
    "    REFUTED       9410\n",
    "    SUPPORTED     8741\n",
    "Test:\n",
    "    NEI          8051\n",
    "    REFUTED      2358\n",
    "    SUPPORTED    2187\n",
    "'''\n",
    "# Define the file path where you want to write the description\n",
    "file_path = \"description.txt\"\n",
    "\n",
    "# Open the file in write mode and write the description to it\n",
    "with open(file_path, 'w') as file:\n",
    "    file.write(description)\n",
    "\n",
    "print(f'Description has been written to {file_path}')"
   ]
  },
  {
   "cell_type": "code",
   "execution_count": null,
   "metadata": {},
   "outputs": [],
   "source": []
  }
 ],
 "metadata": {
  "kernelspec": {
   "display_name": "Python 3",
   "language": "python",
   "name": "python3"
  },
  "language_info": {
   "codemirror_mode": {
    "name": "ipython",
    "version": 3
   },
   "file_extension": ".py",
   "mimetype": "text/x-python",
   "name": "python",
   "nbconvert_exporter": "python",
   "pygments_lexer": "ipython3",
   "version": "3.10.12"
  },
  "papermill": {
   "default_parameters": {},
   "duration": null,
   "end_time": null,
   "environment_variables": {},
   "exception": null,
   "input_path": "__notebook__.ipynb",
   "output_path": "__notebook__.ipynb",
   "parameters": {},
   "start_time": "2023-10-30T06:16:31.876638",
   "version": "2.4.0"
  }
 },
 "nbformat": 4,
 "nbformat_minor": 5
}
